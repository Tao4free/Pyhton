# https://www.reddit.com/r/learnpython/comments/3tu5w9/why_does_my_matplotlib_animation_fail_when_i_add/

import numpy as np
import matplotlib.pyplot as plt

from matplotlib import animation, rc
from IPython.display import HTML

L = 1				# Number of lanes
C = 15				# Number of cells in road
fig, ax = plt.subplots()	# Create figure
a = np.zeros((L,C))		# Create zero array of dimensions L,C
count = 0			# Used for loop
x = 0				# Car position

def animate(c):
    global count, x, i
    if x == C-1:		#[2] If in last cell
        a[L-1,C-1] = 0		# 0 last cell
        a[L-1,0] = 1		# 1 first cell
        x = 0			# Start iterating from 0
    else:
        if count == 0:		#[0] On 1st iteration
            a[L-1,0] = 1	# Put car @ a[0]
            count += 1
        else:			#[1]
            a[L-1,x] = 0	# 0 previous cell
            x += 1
            a[L-1,x] = 1	# 1 in current cell
    ax.clear()
    plt.close()
    ax.imshow(a, cmap=plt.cm.gray, interpolation='nearest')
    return ax


anim = animation.FuncAnimation(fig, animate, interval=100, blit=False)
rc('animation', html='jshtml')
anim
